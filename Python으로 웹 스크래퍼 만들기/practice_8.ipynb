{
  "nbformat": 4,
  "nbformat_minor": 0,
  "metadata": {
    "colab": {
      "provenance": [],
      "authorship_tag": "ABX9TyOwN8e77oPN3WH9nzNli6XW",
      "include_colab_link": true
    },
    "kernelspec": {
      "name": "python3",
      "display_name": "Python 3"
    },
    "language_info": {
      "name": "python"
    }
  },
  "cells": [
    {
      "cell_type": "markdown",
      "metadata": {
        "id": "view-in-github",
        "colab_type": "text"
      },
      "source": [
        "<a href=\"https://colab.research.google.com/github/i2mmmmm/nomadcoder_study/blob/main/Python%EC%9C%BC%EB%A1%9C%20%EC%9B%B9%20%EC%8A%A4%ED%81%AC%EB%9E%98%ED%8D%BC%20%EB%A7%8C%EB%93%A4%EA%B8%B0/practice_8.ipynb\" target=\"_parent\"><img src=\"https://colab.research.google.com/assets/colab-badge.svg\" alt=\"Open In Colab\"/></a>"
      ]
    },
    {
      "cell_type": "code",
      "execution_count": null,
      "metadata": {
        "id": "-8ACy4XO6oZY"
      },
      "outputs": [],
      "source": [
        "# Flask\n",
        "\n"
      ]
    }
  ]
}