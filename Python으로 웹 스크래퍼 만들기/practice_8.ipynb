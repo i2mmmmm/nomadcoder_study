{
  "nbformat": 4,
  "nbformat_minor": 0,
  "metadata": {
    "colab": {
      "provenance": [],
      "authorship_tag": "ABX9TyOwtmMB4r/gXayP9mmHZx3K",
      "include_colab_link": true
    },
    "kernelspec": {
      "name": "python3",
      "display_name": "Python 3"
    },
    "language_info": {
      "name": "python"
    }
  },
  "cells": [
    {
      "cell_type": "markdown",
      "metadata": {
        "id": "view-in-github",
        "colab_type": "text"
      },
      "source": [
        "<a href=\"https://colab.research.google.com/github/i2mmmmm/nomadcoder_study/blob/main/Python%EC%9C%BC%EB%A1%9C%20%EC%9B%B9%20%EC%8A%A4%ED%81%AC%EB%9E%98%ED%8D%BC%20%EB%A7%8C%EB%93%A4%EA%B8%B0/practice_8.ipynb\" target=\"_parent\"><img src=\"https://colab.research.google.com/assets/colab-badge.svg\" alt=\"Open In Colab\"/></a>"
      ]
    },
    {
      "cell_type": "code",
      "execution_count": null,
      "metadata": {
        "id": "-8ACy4XO6oZY"
      },
      "outputs": [],
      "source": [
        "# Flask\n",
        "\n",
        "# HTML 을 배우고 오면 좀 더 예쁜 UI가 가능함"
      ]
    },
    {
      "cell_type": "code",
      "source": [
        "# from extractors.indeed import extract_indeed_jobs\n",
        "# from extractors.wwr import extract_wwr_jobs\n",
        "# from file import save_to_file\n",
        "\n",
        "# keyword = input(\"What do you want to search for?\")\n",
        "\n",
        "# indeed = extract_indeed_jobs(keyword)\n",
        "# wwr = extract_wwr_jobs(keyword)\n",
        "# jobs = indeed + wwr\n",
        "\n",
        "# save_to_file(keyword, jobs)"
      ],
      "metadata": {
        "id": "j79Vxppc-cFj"
      },
      "execution_count": null,
      "outputs": []
    },
    {
      "cell_type": "code",
      "source": [
        "pip install flask"
      ],
      "metadata": {
        "colab": {
          "base_uri": "https://localhost:8080/"
        },
        "id": "IUsAXbopGwG6",
        "outputId": "fa7526f9-2ec0-49dc-9f81-5669efdb68f2"
      },
      "execution_count": 3,
      "outputs": [
        {
          "output_type": "stream",
          "name": "stdout",
          "text": [
            "Requirement already satisfied: flask in /usr/local/lib/python3.10/dist-packages (2.2.5)\n",
            "Requirement already satisfied: Werkzeug>=2.2.2 in /usr/local/lib/python3.10/dist-packages (from flask) (3.0.1)\n",
            "Requirement already satisfied: Jinja2>=3.0 in /usr/local/lib/python3.10/dist-packages (from flask) (3.1.2)\n",
            "Requirement already satisfied: itsdangerous>=2.0 in /usr/local/lib/python3.10/dist-packages (from flask) (2.1.2)\n",
            "Requirement already satisfied: click>=8.0 in /usr/local/lib/python3.10/dist-packages (from flask) (8.1.7)\n",
            "Requirement already satisfied: MarkupSafe>=2.0 in /usr/local/lib/python3.10/dist-packages (from Jinja2>=3.0->flask) (2.1.3)\n"
          ]
        }
      ]
    },
    {
      "cell_type": "code",
      "source": [
        "from flask import Flask\n",
        "\n",
        "app = Flask(\"JobScrapper\")\n",
        "@app.route(\"/\")    # @ 이걸 decorator  라고 부름\n",
        "def home():       # flask 가 user가 이 주소의 페이지를 방문했을 때 이 함수를 호출해야한다\n",
        "  return 'hey there!'\n",
        "\n",
        "app.run(\"0.0.0.0\")\n",
        "\n",
        "# replit에서는 되는데 왜 colab은 안될까"
      ],
      "metadata": {
        "colab": {
          "base_uri": "https://localhost:8080/"
        },
        "id": "ekdxazGcGgEx",
        "outputId": "5e92e204-a09f-4a79-d2f1-8a38227ed627"
      },
      "execution_count": 8,
      "outputs": [
        {
          "output_type": "stream",
          "name": "stdout",
          "text": [
            " * Serving Flask app 'JobScrapper'\n",
            " * Debug mode: off\n"
          ]
        },
        {
          "output_type": "stream",
          "name": "stderr",
          "text": [
            "INFO:werkzeug:\u001b[31m\u001b[1mWARNING: This is a development server. Do not use it in a production deployment. Use a production WSGI server instead.\u001b[0m\n",
            " * Running on all addresses (0.0.0.0)\n",
            " * Running on http://127.0.0.1:5000\n",
            " * Running on http://172.28.0.12:5000\n",
            "INFO:werkzeug:\u001b[33mPress CTRL+C to quit\u001b[0m\n"
          ]
        }
      ]
    }
  ]
}