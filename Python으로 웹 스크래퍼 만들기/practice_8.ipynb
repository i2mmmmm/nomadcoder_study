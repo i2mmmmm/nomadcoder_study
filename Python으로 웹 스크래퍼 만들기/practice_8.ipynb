{
  "nbformat": 4,
  "nbformat_minor": 0,
  "metadata": {
    "colab": {
      "provenance": [],
      "authorship_tag": "ABX9TyOHT8cDdxfUivpjAggGXQMk",
      "include_colab_link": true
    },
    "kernelspec": {
      "name": "python3",
      "display_name": "Python 3"
    },
    "language_info": {
      "name": "python"
    }
  },
  "cells": [
    {
      "cell_type": "markdown",
      "metadata": {
        "id": "view-in-github",
        "colab_type": "text"
      },
      "source": [
        "<a href=\"https://colab.research.google.com/github/i2mmmmm/nomadcoder_study/blob/main/Python%EC%9C%BC%EB%A1%9C%20%EC%9B%B9%20%EC%8A%A4%ED%81%AC%EB%9E%98%ED%8D%BC%20%EB%A7%8C%EB%93%A4%EA%B8%B0/practice_8.ipynb\" target=\"_parent\"><img src=\"https://colab.research.google.com/assets/colab-badge.svg\" alt=\"Open In Colab\"/></a>"
      ]
    },
    {
      "cell_type": "code",
      "execution_count": null,
      "metadata": {
        "id": "-8ACy4XO6oZY"
      },
      "outputs": [],
      "source": [
        "# Flask\n",
        "\n",
        "# HTML 을 배우고 오면 좀 더 예쁜 UI가 가능함"
      ]
    },
    {
      "cell_type": "code",
      "source": [
        "# from extractors.indeed import extract_indeed_jobs\n",
        "# from extractors.wwr import extract_wwr_jobs\n",
        "# from file import save_to_file\n",
        "\n",
        "# keyword = input(\"What do you want to search for?\")\n",
        "\n",
        "# indeed = extract_indeed_jobs(keyword)\n",
        "# wwr = extract_wwr_jobs(keyword)\n",
        "# jobs = indeed + wwr\n",
        "\n",
        "# save_to_file(keyword, jobs)"
      ],
      "metadata": {
        "id": "j79Vxppc-cFj"
      },
      "execution_count": null,
      "outputs": []
    },
    {
      "cell_type": "code",
      "source": [
        "pip install flask"
      ],
      "metadata": {
        "colab": {
          "base_uri": "https://localhost:8080/"
        },
        "id": "IUsAXbopGwG6",
        "outputId": "fa7526f9-2ec0-49dc-9f81-5669efdb68f2"
      },
      "execution_count": null,
      "outputs": [
        {
          "output_type": "stream",
          "name": "stdout",
          "text": [
            "Requirement already satisfied: flask in /usr/local/lib/python3.10/dist-packages (2.2.5)\n",
            "Requirement already satisfied: Werkzeug>=2.2.2 in /usr/local/lib/python3.10/dist-packages (from flask) (3.0.1)\n",
            "Requirement already satisfied: Jinja2>=3.0 in /usr/local/lib/python3.10/dist-packages (from flask) (3.1.2)\n",
            "Requirement already satisfied: itsdangerous>=2.0 in /usr/local/lib/python3.10/dist-packages (from flask) (2.1.2)\n",
            "Requirement already satisfied: click>=8.0 in /usr/local/lib/python3.10/dist-packages (from flask) (8.1.7)\n",
            "Requirement already satisfied: MarkupSafe>=2.0 in /usr/local/lib/python3.10/dist-packages (from Jinja2>=3.0->flask) (2.1.3)\n"
          ]
        }
      ]
    },
    {
      "cell_type": "code",
      "source": [
        "from flask import Flask\n",
        "\n",
        "app = Flask(\"JobScrapper\")\n",
        "@app.route(\"/\")    # @ 이걸 decorator  라고 부름\n",
        "def home():       # flask 가 user가 이 주소의 페이지를 방문했을 때 이 함수를 호출해야한다\n",
        "  return 'hey there!'\n",
        "\n",
        "app.run(\"0.0.0.0\")\n",
        "\n",
        "# replit에서는 되는데 왜 colab은 안될까"
      ],
      "metadata": {
        "colab": {
          "base_uri": "https://localhost:8080/"
        },
        "id": "ekdxazGcGgEx",
        "outputId": "5e92e204-a09f-4a79-d2f1-8a38227ed627"
      },
      "execution_count": null,
      "outputs": [
        {
          "output_type": "stream",
          "name": "stdout",
          "text": [
            " * Serving Flask app 'JobScrapper'\n",
            " * Debug mode: off\n"
          ]
        },
        {
          "output_type": "stream",
          "name": "stderr",
          "text": [
            "INFO:werkzeug:\u001b[31m\u001b[1mWARNING: This is a development server. Do not use it in a production deployment. Use a production WSGI server instead.\u001b[0m\n",
            " * Running on all addresses (0.0.0.0)\n",
            " * Running on http://127.0.0.1:5000\n",
            " * Running on http://172.28.0.12:5000\n",
            "INFO:werkzeug:\u001b[33mPress CTRL+C to quit\u001b[0m\n"
          ]
        }
      ]
    },
    {
      "cell_type": "code",
      "source": [
        "from flask import Flask\n",
        "\n",
        "app = Flask(\"JobScrapper\")\n",
        "@app.route(\"/\")    # @ 이걸 decorator  라고 부름\n",
        "def home():       # flask 가 user가 이 주소의 페이지를 방문했을 때 이 함수를 호출해야한다\n",
        "  return render_template(\"home.html\")\n",
        "\n",
        "\n",
        "@app.route(\"/hello\") # @ 새로운 주소 만들기\n",
        "def hello():          # 출력물\n",
        "  return 'Hello'\n",
        "\n",
        "app.run(\"0.0.0.0\")\n"
      ],
      "metadata": {
        "id": "0Pkz9MQLVv9B"
      },
      "execution_count": null,
      "outputs": []
    },
    {
      "cell_type": "code",
      "source": [
        "from flask import Flask, render_template\n",
        "\n",
        "app = Flask(\"JobScrapper\")\n",
        "@app.route(\"/\")    # @ 이걸 decorator  라고 부름\n",
        "def home():       # flask 가 user가 이 주소의 페이지를 방문했을 때 이 함수를 호출해야한다\n",
        "  return render_template(\"home.html\", name =\"mm\")\n",
        "\n",
        "   # 플라스크는 templates 라는 폴더를 찾기 때문에 꼭 폴더 이름은 templates 로! 대문자 안됨 s 빼기 안됨\n",
        "   # main.py와 함께\n",
        "# replit 에서 templates라는 폴더를 만들고 home.html 이라는 파일을 그 안에 만들고\n",
        "# ! 만 입력하면 자동으로 HTML 문서를 만들어줌 그럼 tab 만 누르면 됨\n",
        "\n",
        "# python 이 백엔드가 되는 것.\n",
        "\n",
        "\n",
        "@app.route(\"/search\")  #새 페이지 만들기\n",
        "def hello():\n",
        "  return 'Hello'\n",
        "app.run(\"0.0.0.0\") # replit 에서는 0."
      ],
      "metadata": {
        "id": "Q5-1W888cURW"
      },
      "execution_count": null,
      "outputs": []
    },
    {
      "cell_type": "code",
      "source": [
        "from flask import Flask, render_template\n",
        "\n",
        "app = Flask(\"JobScrapper\")\n",
        "@app.route(\"/\")\n",
        "def home():\n",
        "  return render_template(\"home.html\", name =\"mm\")\n",
        "\n",
        "\n",
        "\n",
        "\n",
        "@app.route(\"/search\")  #데코레이터\n",
        "def search():        #function\n",
        "  return render_template(\"search.html\")\n",
        "app.run(\"0.0.0.0\")\n",
        "\n",
        "# 0.0.0.0 은 replit 에서만 사용 가능한 ip 주소\n",
        "# 0으로 인해 replit이 우리가 웹서버를 실행하려고 하는 걸 감지해서 브라우저 창이랑 console을 열어줌\n",
        "# 더 많은 HTML CSS를 사용하면 더 풍부한 UI를 구현할 수 있음\n",
        "# randering은 user 에게 HTML을 전달하고 HTML에 변수를 전달하기도 함\n",
        "# python에서 쓴 변수를 HTML에 반영할 때는 {{name}} 이런 식으로 쓰면 됨"
      ],
      "metadata": {
        "id": "S4bA8Nf7WoGL"
      },
      "execution_count": null,
      "outputs": []
    },
    {
      "cell_type": "code",
      "source": [
        "from flask import Flask, render_template, request\n",
        "from extractors.indeed import extract_indeed_jobs\n",
        "\n",
        "app = Flask(\"JobScrapper\")\n",
        "@app.route(\"/\")    # @ 이걸 decorator  라고 부름\n",
        "def home():       # flask 가 user가 이 주소의 페이지를 방문했을 때 이 함수를 호출해야한다\n",
        "  return render_template(\"home.html\", name =\"mm\")\n",
        "\n",
        "\n",
        "\n",
        "\n",
        "@app.route(\"/search\")  #데코레이터\n",
        "def search():        #function\n",
        "  keyword = request.args.get(\"keyword\") # 사용자가 입력하는 게 뭔지 알아보기\n",
        "  indeed = extract_indeed_jobs(keyword)\n",
        "  wwr = extract_wwr_jobs(keyword)\n",
        "  jobs = indeed + wwr\n",
        "  return render_template(\"search.html\", keyword=keyword, jobs=jobs) # 사용자가 입력한 걸 keyword로 받아서 다시 화면에 보여주기 (search.html에서 {{keyword}}를 사용함)\n",
        "app.run(\"0.0.0.0\") # replit 에서는 0.\n",
        "# 0.0.0.0 은 replit 에서만 사용 가능한 ip 주소, replit이 우리가 웹서버를 실행하려고 하는 걸 감지해서 브라우저 창이랑 console을 열어줌\n",
        "# 더 많은 HTML CSS를 사용하면 더 풍부한 UI를 구현할 수 있음\n",
        "# randering은 user 에게 HTML을 전달하고 HTML에 변수를 전달하기도 함\n",
        "# python에서 쓴 변수를 HTML에 반영할 때는 {{name}} 이런 식으로 쓰면 됨"
      ],
      "metadata": {
        "id": "nlbUrOrHj2Zc"
      },
      "execution_count": null,
      "outputs": []
    }
  ]
}