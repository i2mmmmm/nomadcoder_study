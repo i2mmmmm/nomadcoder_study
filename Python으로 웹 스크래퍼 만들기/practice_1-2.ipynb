{
  "nbformat": 4,
  "nbformat_minor": 0,
  "metadata": {
    "colab": {
      "provenance": [],
      "authorship_tag": "ABX9TyPjcP6l5M+6tXjT+ha3eyIp",
      "include_colab_link": true
    },
    "kernelspec": {
      "name": "python3",
      "display_name": "Python 3"
    },
    "language_info": {
      "name": "python"
    }
  },
  "cells": [
    {
      "cell_type": "markdown",
      "metadata": {
        "id": "view-in-github",
        "colab_type": "text"
      },
      "source": [
        "<a href=\"https://colab.research.google.com/github/i2mmmmm/nomadcoder_study/blob/main/practice_1-2.ipynb\" target=\"_parent\"><img src=\"https://colab.research.google.com/assets/colab-badge.svg\" alt=\"Open In Colab\"/></a>"
      ]
    },
    {
      "cell_type": "code",
      "execution_count": 1,
      "metadata": {
        "colab": {
          "base_uri": "https://localhost:8080/"
        },
        "id": "ZSZQyAUFK0b6",
        "outputId": "04550372-1fb7-473a-f526-eac2c600f0f1"
      },
      "outputs": [
        {
          "output_type": "stream",
          "name": "stdout",
          "text": [
            "5\n"
          ]
        }
      ],
      "source": [
        "a =2\n",
        "b =3\n",
        "c = a+b\n",
        "print(c)"
      ]
    },
    {
      "cell_type": "code",
      "source": [
        "# python 에서는 주로 snake case\n",
        "my_age = 12\n",
        "# java에서는 주로 camel case\n",
        "myAge = 12"
      ],
      "metadata": {
        "id": "vZShK6W5LU35"
      },
      "execution_count": 30,
      "outputs": []
    },
    {
      "cell_type": "code",
      "source": [
        "a = 12 # 숫자\n",
        "b = '12' # 문자\n",
        "\n",
        "# boolean = True or False\n",
        "a = True # boolean 에서는 반드시 대문자로 시작하기\n",
        "# True = 1 = on\n",
        "# False = 0 = off"
      ],
      "metadata": {
        "id": "Jcf6SJsBMK6P"
      },
      "execution_count": 11,
      "outputs": []
    },
    {
      "cell_type": "code",
      "source": [
        "my_name = 'mm'\n",
        "age = 12\n",
        "dead = False\n",
        "\n",
        "print(\"Hello, my name is\", my_name)\n",
        "print(\"and I'm\", age, \"years old\")\n",
        "\n",
        "#변수를 지정해두면 언제든 재사용할 수 있어 편리함"
      ],
      "metadata": {
        "colab": {
          "base_uri": "https://localhost:8080/"
        },
        "id": "mID5R6yXNt_S",
        "outputId": "a736838b-5393-4c2f-bffd-fc0be1e5ded9"
      },
      "execution_count": 31,
      "outputs": [
        {
          "output_type": "stream",
          "name": "stdout",
          "text": [
            "Hello, my name is mm\n",
            "and I'm 12 years old\n"
          ]
        }
      ]
    },
    {
      "cell_type": "code",
      "source": [
        "print(True)\n",
        "print(\"Hello\")\n",
        "print(12)\n",
        "\n",
        "print(True, 'hello', 12)"
      ],
      "metadata": {
        "colab": {
          "base_uri": "https://localhost:8080/"
        },
        "id": "GQ4p7KoROcTL",
        "outputId": "fc9a2470-9f4b-4129-ae76-fa2f5405bfcd"
      },
      "execution_count": 18,
      "outputs": [
        {
          "output_type": "stream",
          "name": "stdout",
          "text": [
            "True\n",
            "Hello\n",
            "12\n",
            "True hello 12\n"
          ]
        }
      ]
    },
    {
      "cell_type": "code",
      "source": [
        "def say_hello(): # function 지정하기, 숫자로 시작하지 않기\n",
        "  print('hello how r u?') # 띄어쓰기 중요, 내용이 function 안에 들어있다는 것을 의미\n",
        "\n",
        "say_hello() # 괄호란 function 안에서 play 버튼 같은 것\n",
        "say_hello()\n",
        "say_hello()\n",
        "say_hello() # 재사용 가능 = 편리"
      ],
      "metadata": {
        "colab": {
          "base_uri": "https://localhost:8080/"
        },
        "id": "6dj-rBB6PJdq",
        "outputId": "c810cdeb-92f0-4609-ff91-49c5e2ad895a"
      },
      "execution_count": 21,
      "outputs": [
        {
          "output_type": "stream",
          "name": "stdout",
          "text": [
            "hello how r u?\n",
            "hello how r u?\n",
            "hello how r u?\n",
            "hello how r u?\n"
          ]
        }
      ]
    },
    {
      "cell_type": "code",
      "source": [
        "def say_hello():\n",
        "    print('hello how r u?')\n",
        "\n",
        "def say_bye():\n",
        "  print('bye bye')\n",
        "\n",
        "say_hello()\n",
        "\n",
        "# def 아랫줄 띄어쓰기는 python의 좋은 큰 특징 중 하나\n",
        "# 다른 언어에서는 중괄호가 들어감"
      ],
      "metadata": {
        "colab": {
          "base_uri": "https://localhost:8080/"
        },
        "id": "_WCO4Jm3QI9E",
        "outputId": "31a70a50-4a01-4d14-d51e-c2adcb2ffc41"
      },
      "execution_count": 22,
      "outputs": [
        {
          "output_type": "stream",
          "name": "stdout",
          "text": [
            "hello how r u?\n"
          ]
        }
      ]
    },
    {
      "cell_type": "code",
      "source": [
        "# function 안에 입력값 넣기\n",
        "\n",
        "def say_hello(user_name):         # 여기에서 user_name 은 parameter\n",
        "  print(\"hello,\", user_name, \"how r u?\")\n",
        "\n",
        "say_hello(\"mm\")     # mm 이라는 받는 값은 argument\n",
        "say_hello(\"2m\")"
      ],
      "metadata": {
        "colab": {
          "base_uri": "https://localhost:8080/"
        },
        "id": "WYxT1gnhRVMy",
        "outputId": "33d7042f-6ae6-4f3f-a41b-834857a98cb7"
      },
      "execution_count": 27,
      "outputs": [
        {
          "output_type": "stream",
          "name": "stdout",
          "text": [
            "hello, mm how r u?\n",
            "hello, 2m how r u?\n"
          ]
        }
      ]
    },
    {
      "cell_type": "code",
      "source": [
        "# 여러개 parameter 받는 function 만들기\n",
        "\n",
        "def say_hello(user_name, user_age):\n",
        "  print(\"hello,\", user_name, \"how r u?\")\n",
        "  print(\"you are\", user_age, \"years old\")\n",
        "\n",
        "say_hello(\"mm\", 12)\n",
        "\n",
        "# 에러를 읽는 것도 연습하기 argument가 부족하다거나 넘친다거나 등등"
      ],
      "metadata": {
        "colab": {
          "base_uri": "https://localhost:8080/"
        },
        "id": "7xRRe4wlSwdT",
        "outputId": "5cb098d1-6b92-4401-f057-aab4250c76ce"
      },
      "execution_count": 32,
      "outputs": [
        {
          "output_type": "stream",
          "name": "stdout",
          "text": [
            "hello, mm how r u?\n",
            "you are 12 years old\n"
          ]
        }
      ]
    },
    {
      "cell_type": "code",
      "source": [
        "# fuction 은 우리를 더 생산적인 개발자로 만들어준다\n",
        "\n",
        "def tax_calculator(money):\n",
        "  print(money * 0.35)\n",
        "\n",
        "tax_calculator(150000000)\n",
        "tax_calculator(1500)"
      ],
      "metadata": {
        "colab": {
          "base_uri": "https://localhost:8080/"
        },
        "id": "k5zrtGCfVFSS",
        "outputId": "a5ae8f8e-4bf5-466a-aba5-a5d314d77d99"
      },
      "execution_count": 35,
      "outputs": [
        {
          "output_type": "stream",
          "name": "stdout",
          "text": [
            "52500000.0\n",
            "525.0\n"
          ]
        }
      ]
    },
    {
      "cell_type": "code",
      "source": [
        "# parameter에 기본값 주기 = argument 입력없이 함수 실행 가능 = 에러 줄이기\n",
        "\n",
        "def say_hello(user_name = 'anonymous'):\n",
        "  print(\"Hello\", user_name)\n",
        "\n",
        "say_hello(\"mm\")\n",
        "say_hello()"
      ],
      "metadata": {
        "colab": {
          "base_uri": "https://localhost:8080/"
        },
        "id": "4SnDAEFrWuNs",
        "outputId": "7676aef9-d673-4fa6-9db8-0ec30bf075f6"
      },
      "execution_count": 41,
      "outputs": [
        {
          "output_type": "stream",
          "name": "stdout",
          "text": [
            "Hello mm\n",
            "Hello anonymous\n"
          ]
        }
      ]
    },
    {
      "cell_type": "code",
      "source": [
        "# Challenge - 에러 0개인 계산 함수만들기 (parameter 없는 경우 관리하기)\n",
        "\n",
        "def plus(a=0, b=0):\n",
        "  print(a + b)\n",
        "\n",
        "def minus(a=0, b=0):\n",
        "  print(a - b)\n",
        "\n",
        "def multiplication(a=0, b=0):\n",
        "  print(a * b)\n",
        "\n",
        "def division(a=0, b=1):\n",
        "  print(a / b)\n",
        "\n",
        "def power(a=0, b=1):\n",
        "  print(a ** b)"
      ],
      "metadata": {
        "id": "M4cQ3_hTXYGH"
      },
      "execution_count": 50,
      "outputs": []
    },
    {
      "cell_type": "code",
      "source": [
        "plus(1,2)\n",
        "minus(1,2)\n",
        "multiplication(1,2)\n",
        "division(1,2)\n",
        "power(1,2)\n",
        "\n",
        "# parameter 없는 경우\n",
        "plus()\n",
        "minus()\n",
        "multiplication()\n",
        "division()\n",
        "power()"
      ],
      "metadata": {
        "colab": {
          "base_uri": "https://localhost:8080/"
        },
        "id": "3iOZSBBeZKWr",
        "outputId": "2ba22ba6-8429-4859-f124-36c74778e25a"
      },
      "execution_count": 52,
      "outputs": [
        {
          "output_type": "stream",
          "name": "stdout",
          "text": [
            "3\n",
            "-1\n",
            "2\n",
            "0.5\n",
            "1\n",
            "0\n",
            "0\n",
            "0\n",
            "0.0\n",
            "0\n"
          ]
        }
      ]
    },
    {
      "cell_type": "code",
      "source": [
        "# Return values\n",
        "\n",
        "def tax_calc(money):\n",
        "  return money * 0.35\n",
        "\n",
        "def pay_tax(tax):\n",
        "  print(\"thank you for paying\", tax)\n",
        "\n",
        "to_pay = tax_calc(150000)\n",
        "pay_tax(to_pay)\n",
        "\n",
        "# return 은 함수 바깥으로 값을 보낸다는 뜻,\n",
        "# 함수의 값을 다른 함수에서 사용할 때\n",
        "\n",
        "pay_tax(tax_calc(150000))  # 이렇게 요약 가능\n"
      ],
      "metadata": {
        "colab": {
          "base_uri": "https://localhost:8080/"
        },
        "id": "puzmYYAzcKh1",
        "outputId": "b451db99-f258-4647-d2d9-75374b3c4e79"
      },
      "execution_count": 59,
      "outputs": [
        {
          "output_type": "stream",
          "name": "stdout",
          "text": [
            "thank you for paying 52500.0\n",
            "thank you for paying 52500.0\n"
          ]
        }
      ]
    },
    {
      "cell_type": "code",
      "source": [
        "# 파이썬의 매력 중 하나 : 문자열 안에 변수를 넣는 기능\n",
        "\n",
        "my_name = 'mm'\n",
        "my_age = 12\n",
        "my_color_eyes = 'black'\n",
        "\n",
        "f\"Hello, I'm {my_name}, I have {my_age} years in the earth, {my_color_eyes} is my eye color\"\n",
        "# print 로는 중괄호 그대로 출력됨\n",
        "# 규칙은 f와 쌍따옴표\n"
      ],
      "metadata": {
        "colab": {
          "base_uri": "https://localhost:8080/",
          "height": 35
        },
        "id": "MqBsAa5Aetel",
        "outputId": "f69b57c4-6965-4ca6-aa4a-d2016938ee93"
      },
      "execution_count": 65,
      "outputs": [
        {
          "output_type": "execute_result",
          "data": {
            "text/plain": [
              "\"Hello, I'm mm, I have 12 years in the earth, black is my eye color\""
            ],
            "application/vnd.google.colaboratory.intrinsic+json": {
              "type": "string"
            }
          },
          "metadata": {},
          "execution_count": 65
        }
      ]
    },
    {
      "cell_type": "code",
      "source": [
        "# juice_maker   ('Win + .' = 이모티콘)\n",
        "# return 다음 줄에 print 등의 다른 기능을 써도 실행되지 않음\n",
        "\n",
        "def make_juice(fruit):\n",
        "  return f\"{fruit}+🥤\"\n",
        "\n",
        "def add_ice(juice):\n",
        "  return f\"{juice}+🧊\"\n",
        "\n",
        "def add_sugar(iced_juice):\n",
        "  return f\"{iced_juice}+🍬\"\n",
        "\n",
        "juice = make_juice(\"🍎\")\n",
        "cold_juice = add_ice(juice)\n",
        "perfect_juice = add_sugar(cold_juice)\n",
        "\n",
        "print(perfect_juice)"
      ],
      "metadata": {
        "colab": {
          "base_uri": "https://localhost:8080/"
        },
        "id": "ykR3OMIVh2Wp",
        "outputId": "dd56e14e-7767-4318-c5d6-7990941f3524"
      },
      "execution_count": 66,
      "outputs": [
        {
          "output_type": "stream",
          "name": "stdout",
          "text": [
            "🍎+🥤+🧊+🍬\n"
          ]
        }
      ]
    },
    {
      "cell_type": "code",
      "source": [
        "print(\"my_juice_recipe =\", add_sugar(add_ice(make_juice(\"🍎\"))))"
      ],
      "metadata": {
        "colab": {
          "base_uri": "https://localhost:8080/"
        },
        "id": "5zE03mBCkRPE",
        "outputId": "f5effd05-62cf-4d33-e860-5e81ddbb65e8"
      },
      "execution_count": 71,
      "outputs": [
        {
          "output_type": "stream",
          "name": "stdout",
          "text": [
            "my_juice_recipe = 🍎+🥤+🧊+🍬\n"
          ]
        }
      ]
    }
  ]
}
