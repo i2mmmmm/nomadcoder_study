{
  "nbformat": 4,
  "nbformat_minor": 0,
  "metadata": {
    "colab": {
      "provenance": [],
      "authorship_tag": "ABX9TyOlPpOHdmC/HH8xidOhxZ6X",
      "include_colab_link": true
    },
    "kernelspec": {
      "name": "python3",
      "display_name": "Python 3"
    },
    "language_info": {
      "name": "python"
    }
  },
  "cells": [
    {
      "cell_type": "markdown",
      "metadata": {
        "id": "view-in-github",
        "colab_type": "text"
      },
      "source": [
        "<a href=\"https://colab.research.google.com/github/i2mmmmm/nomadcoder_study/blob/main/Python%EC%9C%BC%EB%A1%9C%20%EC%9B%B9%20%EC%8A%A4%ED%81%AC%EB%9E%98%ED%8D%BC%20%EB%A7%8C%EB%93%A4%EA%B8%B0/practice_4.ipynb\" target=\"_parent\"><img src=\"https://colab.research.google.com/assets/colab-badge.svg\" alt=\"Open In Colab\"/></a>"
      ]
    },
    {
      "cell_type": "code",
      "execution_count": 7,
      "metadata": {
        "colab": {
          "base_uri": "https://localhost:8080/"
        },
        "id": "TiqpUwbH_85X",
        "outputId": "8f9cfb07-b76f-4274-ecbd-ddace7f90d97"
      },
      "outputs": [
        {
          "output_type": "stream",
          "name": "stdout",
          "text": [
            "['Mon', 'Tue', 'Wed', 'Thu', 'Fri']\n",
            "MM\n",
            "Mm\n",
            "True\n",
            "aa\n"
          ]
        }
      ],
      "source": [
        "# data structure 데이터 구조\n",
        "\n",
        "# list 만들기 (대괄호[] 안에 넣기)\n",
        "days_of_week = [\"Mon\",\"Tue\",\"Wed\",\"Thu\",\"Fri\"]\n",
        "\n",
        "print(days_of_week)\n",
        "\n",
        "# 문자에 .~~ 붙여서 method 호출하기\n",
        "name = 'mm'\n",
        "\n",
        "print(name.upper())\n",
        "print(name.capitalize())\n",
        "print(name.startswith('m'))\n",
        "print(name.replace(\"m\",'a'))\n",
        "\n",
        "# 자세한 건 역시 The Python Standard Library 에서 찾아보기\n",
        "# 다양한 method를 사용할 수 있다."
      ]
    },
    {
      "cell_type": "code",
      "source": [
        "#\n",
        "\n",
        "days_of_week = [\"Mon\",\"Tue\",\"Wed\",\"Thu\",\"Fri\"]\n",
        "\n",
        "print(days_of_week)\n",
        "print(days_of_week.count(\"Wed\"))\n",
        "\n",
        "days_of_week.reverse()\n",
        "print(days_of_week)\n",
        "\n",
        "days_of_week.clear()\n",
        "print(days_of_week)\n",
        "\n",
        "days_of_week = [\"Mon\",\"Tue\",\"Wed\",\"Thu\",\"Fri\"]\n",
        "days_of_week.append(\"Sat\")\n",
        "print(days_of_week)\n",
        "days_of_week.append(\"Sun\")\n",
        "print(days_of_week)\n",
        "\n",
        "days_of_week.remove(\"Mon\")\n",
        "print(days_of_week)\n",
        "\n",
        "print(days_of_week[3])\n",
        "\n",
        "# 이렇듯 데이터의 쉬운 수정과 조회가 가능해졌다."
      ],
      "metadata": {
        "colab": {
          "base_uri": "https://localhost:8080/"
        },
        "id": "Tfup3AdtCamT",
        "outputId": "be81463a-4be2-41f5-ba13-8ab3223342b2"
      },
      "execution_count": 24,
      "outputs": [
        {
          "output_type": "stream",
          "name": "stdout",
          "text": [
            "['Mon', 'Tue', 'Wed', 'Thu', 'Fri']\n",
            "1\n",
            "['Fri', 'Thu', 'Wed', 'Tue', 'Mon']\n",
            "[]\n",
            "['Mon', 'Tue', 'Wed', 'Thu', 'Fri', 'Sat']\n",
            "['Mon', 'Tue', 'Wed', 'Thu', 'Fri', 'Sat', 'Sun']\n",
            "['Tue', 'Wed', 'Thu', 'Fri', 'Sat', 'Sun']\n",
            "Fri\n"
          ]
        }
      ]
    },
    {
      "cell_type": "code",
      "source": [
        "# Tuple\n",
        "\n",
        "days = [\"Mon\",\"Tue\",\"Wed\"] # 이것은 list\n",
        "days = (\"Mon\",\"Tue\",\"Wed\") # 이것이 Tuple\n",
        "\n",
        "# Tuple 은 불변이므로 수정이 불가능. list와의 차이점\n",
        "# . 을 눌러서 method를 확인해보면 할 수 있는 게 확연히 적음을 확인 가능\n",
        "\n",
        "print(days[0]) # 조회는 잘됨\n",
        "print(days[-1])"
      ],
      "metadata": {
        "colab": {
          "base_uri": "https://localhost:8080/"
        },
        "id": "oIAeEQtjEf-G",
        "outputId": "92274025-6f97-482f-ece6-d04a15df886e"
      },
      "execution_count": 28,
      "outputs": [
        {
          "output_type": "stream",
          "name": "stdout",
          "text": [
            "Mon\n",
            "Wed\n"
          ]
        }
      ]
    },
    {
      "cell_type": "code",
      "source": [
        "# Dicts\n",
        "# ():Tuple []:List {}:Dicts\n",
        "\n",
        "player = {\n",
        "    'name':'nico',\n",
        "    'age':12,\n",
        "    'alive':True,\n",
        "    'fav_food':[\"🍕\",\"🍔\"]\n",
        "}\n",
        "\n",
        "print(player)\n",
        "print(player.get('age')) # 이것은 list에서 할 수 없는 기능// 키가 있다는 것\n",
        "print(player.get('fav_food'))\n",
        "\n",
        "print(player['fav_food'])\n",
        "\n",
        "# dictionary 수정하기\n",
        "\n",
        "print(player)\n",
        "player.pop('age')\n",
        "print(player)\n",
        "\n",
        "player['xp'] = 1500\n",
        "print(player)\n",
        "\n",
        "player['fav_food'].append(\"🍜\")\n",
        "print(player)"
      ],
      "metadata": {
        "colab": {
          "base_uri": "https://localhost:8080/"
        },
        "id": "T9i6IfDQF1td",
        "outputId": "c5e5fafc-f27b-4787-ad93-b2483df08c99"
      },
      "execution_count": 42,
      "outputs": [
        {
          "output_type": "stream",
          "name": "stdout",
          "text": [
            "{'name': 'nico', 'age': 12, 'alive': True, 'fav_food': ['🍕', '🍔']}\n",
            "12\n",
            "['🍕', '🍔']\n",
            "['🍕', '🍔']\n",
            "{'name': 'nico', 'age': 12, 'alive': True, 'fav_food': ['🍕', '🍔']}\n",
            "{'name': 'nico', 'alive': True, 'fav_food': ['🍕', '🍔']}\n",
            "{'name': 'nico', 'alive': True, 'fav_food': ['🍕', '🍔'], 'xp': 1500}\n",
            "{'name': 'nico', 'alive': True, 'fav_food': ['🍕', '🍔', '🍜'], 'xp': 1500}\n"
          ]
        }
      ]
    }
  ]
}