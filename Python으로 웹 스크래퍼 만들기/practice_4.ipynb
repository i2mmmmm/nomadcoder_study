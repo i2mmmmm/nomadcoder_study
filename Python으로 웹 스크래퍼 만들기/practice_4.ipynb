{
  "nbformat": 4,
  "nbformat_minor": 0,
  "metadata": {
    "colab": {
      "provenance": [],
      "authorship_tag": "ABX9TyPrf8NnTStXzOuNZFOoRHPy",
      "include_colab_link": true
    },
    "kernelspec": {
      "name": "python3",
      "display_name": "Python 3"
    },
    "language_info": {
      "name": "python"
    }
  },
  "cells": [
    {
      "cell_type": "markdown",
      "metadata": {
        "id": "view-in-github",
        "colab_type": "text"
      },
      "source": [
        "<a href=\"https://colab.research.google.com/github/i2mmmmm/nomadcoder_study/blob/main/Python%EC%9C%BC%EB%A1%9C%20%EC%9B%B9%20%EC%8A%A4%ED%81%AC%EB%9E%98%ED%8D%BC%20%EB%A7%8C%EB%93%A4%EA%B8%B0/practice_4.ipynb\" target=\"_parent\"><img src=\"https://colab.research.google.com/assets/colab-badge.svg\" alt=\"Open In Colab\"/></a>"
      ]
    },
    {
      "cell_type": "code",
      "execution_count": null,
      "metadata": {
        "colab": {
          "base_uri": "https://localhost:8080/"
        },
        "id": "TiqpUwbH_85X",
        "outputId": "8f9cfb07-b76f-4274-ecbd-ddace7f90d97"
      },
      "outputs": [
        {
          "output_type": "stream",
          "name": "stdout",
          "text": [
            "['Mon', 'Tue', 'Wed', 'Thu', 'Fri']\n",
            "MM\n",
            "Mm\n",
            "True\n",
            "aa\n"
          ]
        }
      ],
      "source": [
        "# data structure 데이터 구조\n",
        "\n",
        "# list 만들기 (대괄호[] 안에 넣기)\n",
        "days_of_week = [\"Mon\",\"Tue\",\"Wed\",\"Thu\",\"Fri\"]\n",
        "\n",
        "print(days_of_week)\n",
        "\n",
        "# 문자에 .~~ 붙여서 method 호출하기\n",
        "name = 'mm'\n",
        "\n",
        "print(name.upper())\n",
        "print(name.capitalize())\n",
        "print(name.startswith('m'))\n",
        "print(name.replace(\"m\",'a'))\n",
        "\n",
        "# 자세한 건 역시 The Python Standard Library 에서 찾아보기\n",
        "# 다양한 method를 사용할 수 있다."
      ]
    },
    {
      "cell_type": "code",
      "source": [
        "#\n",
        "\n",
        "days_of_week = [\"Mon\",\"Tue\",\"Wed\",\"Thu\",\"Fri\"]\n",
        "\n",
        "print(days_of_week)\n",
        "print(days_of_week.count(\"Wed\"))\n",
        "\n",
        "days_of_week.reverse()\n",
        "print(days_of_week)\n",
        "\n",
        "days_of_week.clear()\n",
        "print(days_of_week)\n",
        "\n",
        "days_of_week = [\"Mon\",\"Tue\",\"Wed\",\"Thu\",\"Fri\"]\n",
        "days_of_week.append(\"Sat\")\n",
        "print(days_of_week)\n",
        "days_of_week.append(\"Sun\")\n",
        "print(days_of_week)\n",
        "\n",
        "days_of_week.remove(\"Mon\")\n",
        "print(days_of_week)\n",
        "\n",
        "print(days_of_week[3])\n",
        "\n",
        "# 이렇듯 데이터의 쉬운 수정과 조회가 가능해졌다."
      ],
      "metadata": {
        "colab": {
          "base_uri": "https://localhost:8080/"
        },
        "id": "Tfup3AdtCamT",
        "outputId": "be81463a-4be2-41f5-ba13-8ab3223342b2"
      },
      "execution_count": null,
      "outputs": [
        {
          "output_type": "stream",
          "name": "stdout",
          "text": [
            "['Mon', 'Tue', 'Wed', 'Thu', 'Fri']\n",
            "1\n",
            "['Fri', 'Thu', 'Wed', 'Tue', 'Mon']\n",
            "[]\n",
            "['Mon', 'Tue', 'Wed', 'Thu', 'Fri', 'Sat']\n",
            "['Mon', 'Tue', 'Wed', 'Thu', 'Fri', 'Sat', 'Sun']\n",
            "['Tue', 'Wed', 'Thu', 'Fri', 'Sat', 'Sun']\n",
            "Fri\n"
          ]
        }
      ]
    },
    {
      "cell_type": "code",
      "source": [
        "# Tuple\n",
        "\n",
        "days = [\"Mon\",\"Tue\",\"Wed\"] # 이것은 list\n",
        "days = (\"Mon\",\"Tue\",\"Wed\") # 이것이 Tuple\n",
        "\n",
        "# Tuple 은 불변이므로 수정이 불가능. list와의 차이점\n",
        "# . 을 눌러서 method를 확인해보면 할 수 있는 게 확연히 적음을 확인 가능\n",
        "\n",
        "print(days[0]) # 조회는 잘됨\n",
        "print(days[-1])"
      ],
      "metadata": {
        "colab": {
          "base_uri": "https://localhost:8080/"
        },
        "id": "oIAeEQtjEf-G",
        "outputId": "92274025-6f97-482f-ece6-d04a15df886e"
      },
      "execution_count": null,
      "outputs": [
        {
          "output_type": "stream",
          "name": "stdout",
          "text": [
            "Mon\n",
            "Wed\n"
          ]
        }
      ]
    },
    {
      "cell_type": "code",
      "source": [
        "# Dicts\n",
        "# ():Tuple []:List {}:Dicts\n",
        "\n",
        "player = {\n",
        "    'name':'nico',\n",
        "    'age':12,\n",
        "    'alive':True,\n",
        "    'fav_food':[\"🍕\",\"🍔\"]\n",
        "}\n",
        "\n",
        "print(player)\n",
        "print(player.get('age')) # 이것은 list에서 할 수 없는 기능// 키가 있다는 것\n",
        "print(player.get('fav_food'))\n",
        "\n",
        "print(player['fav_food'])\n",
        "\n",
        "# dictionary 수정하기\n",
        "\n",
        "print(player)\n",
        "player.pop('age')\n",
        "print(player)\n",
        "\n",
        "player['xp'] = 1500\n",
        "print(player)\n",
        "\n",
        "player['fav_food'].append(\"🍜\")\n",
        "print(player)"
      ],
      "metadata": {
        "colab": {
          "base_uri": "https://localhost:8080/"
        },
        "id": "T9i6IfDQF1td",
        "outputId": "c5e5fafc-f27b-4787-ad93-b2483df08c99"
      },
      "execution_count": null,
      "outputs": [
        {
          "output_type": "stream",
          "name": "stdout",
          "text": [
            "{'name': 'nico', 'age': 12, 'alive': True, 'fav_food': ['🍕', '🍔']}\n",
            "12\n",
            "['🍕', '🍔']\n",
            "['🍕', '🍔']\n",
            "{'name': 'nico', 'age': 12, 'alive': True, 'fav_food': ['🍕', '🍔']}\n",
            "{'name': 'nico', 'alive': True, 'fav_food': ['🍕', '🍔']}\n",
            "{'name': 'nico', 'alive': True, 'fav_food': ['🍕', '🍔'], 'xp': 1500}\n",
            "{'name': 'nico', 'alive': True, 'fav_food': ['🍕', '🍔', '🍜'], 'xp': 1500}\n"
          ]
        }
      ]
    },
    {
      "cell_type": "code",
      "source": [
        "websites = [\n",
        "    \"google.com\",\n",
        "    \"airbnb.com\",\n",
        "    \"twitter.com\",\n",
        "    \"facebook.com\",\n",
        "    \"tiktok.com\"\n",
        "]\n",
        "\n",
        "websites[0]\n",
        "\n",
        "for potato in websites:\n",
        "  print(\"potato is equals to\", potato)\n",
        "\n"
      ],
      "metadata": {
        "id": "l_48Q0oKj68g",
        "outputId": "d55ea566-455d-4a84-fa65-6bcaefb3ccd8",
        "colab": {
          "base_uri": "https://localhost:8080/"
        }
      },
      "execution_count": 8,
      "outputs": [
        {
          "output_type": "stream",
          "name": "stdout",
          "text": [
            "potato is equals to google.com\n",
            "potato is equals to airbnb.com\n",
            "potato is equals to twitter.com\n",
            "potato is equals to facebook.com\n",
            "potato is equals to tiktok.com\n"
          ]
        }
      ]
    },
    {
      "cell_type": "code",
      "source": [
        "websites = (\n",
        "    \"google.com\",\n",
        "    \"airbnb.com\",\n",
        "    \"https://twitter.com\",\n",
        "    \"facebook.com\",\n",
        "    \"https://tiktok.com\"\n",
        ")\n",
        "\n",
        "for website in websites:\n",
        "  if not website.startswith(\"https://\"):\n",
        "    website = f\"https://{website}\"\n",
        "  print(website)\n",
        "\n",
        "# if not을 활용해 https:// 로 시작하지 않는 웹사이트를 찾아 https:// 를 붙여주기\n"
      ],
      "metadata": {
        "id": "OTKH5NjVmH9k",
        "outputId": "fdd59a48-925a-4380-d757-a177a177d692",
        "colab": {
          "base_uri": "https://localhost:8080/"
        }
      },
      "execution_count": 14,
      "outputs": [
        {
          "output_type": "stream",
          "name": "stdout",
          "text": [
            "https://google.com\n",
            "https://airbnb.com\n",
            "https://twitter.com\n",
            "https://facebook.com\n",
            "https://tiktok.com\n"
          ]
        }
      ]
    },
    {
      "cell_type": "code",
      "source": [
        "pip install requests"
      ],
      "metadata": {
        "id": "UOY2m9YmqwJm",
        "outputId": "2e1b8326-f6c1-4b98-bc0d-b9b92accceed",
        "colab": {
          "base_uri": "https://localhost:8080/"
        }
      },
      "execution_count": 15,
      "outputs": [
        {
          "output_type": "stream",
          "name": "stdout",
          "text": [
            "Requirement already satisfied: requests in /usr/local/lib/python3.10/dist-packages (2.31.0)\n",
            "Requirement already satisfied: charset-normalizer<4,>=2 in /usr/local/lib/python3.10/dist-packages (from requests) (3.3.2)\n",
            "Requirement already satisfied: idna<4,>=2.5 in /usr/local/lib/python3.10/dist-packages (from requests) (3.6)\n",
            "Requirement already satisfied: urllib3<3,>=1.21.1 in /usr/local/lib/python3.10/dist-packages (from requests) (2.0.7)\n",
            "Requirement already satisfied: certifi>=2017.4.17 in /usr/local/lib/python3.10/dist-packages (from requests) (2023.11.17)\n"
          ]
        }
      ]
    },
    {
      "cell_type": "code",
      "source": [
        "from requests import get\n",
        "\n",
        "websites = (\n",
        "    \"google.com\",\n",
        "    \"airbnb.com\",\n",
        "    \"https://twitter.com\",\n",
        "    \"facebook.com\",\n",
        "    \"https://tiktok.com\"\n",
        ")\n",
        "\n",
        "for website in websites:\n",
        "  if not website.startswith(\"https://\"):\n",
        "    website = f\"https://{website}\"\n",
        "  response = get(website)\n",
        "  print(response.status_code)\n",
        "\n",
        "  # request 의 결과를 확인해보는 결과 http 200 = ok 웹사이트 성공적으로 요청\n",
        "  # http 상태코드 검색해보면 각 숫자 코드에 대한 설명 볼 수 있음\n",
        "\n",
        "results = {}\n",
        "for website in websites:\n",
        "  if not website.startswith(\"https://\"):  # True or False boolean이 출력됨\n",
        "    website = f\"https://{website}\"\n",
        "\n",
        "  response = get(website)\n",
        "  if response.status_code == 200:\n",
        "    results[website] = \"OK\"\n",
        "  else:\n",
        "    results[website] = \"Failed\"\n",
        "\n",
        "print(results)\n",
        "\n",
        "\n",
        "# for 반복문 안에 website 라는 변수를 만들어\n",
        "# if 를 반복시켜서 print 까지"
      ],
      "metadata": {
        "id": "7-CZ1ncYvFE5",
        "outputId": "72fa2114-b88c-4690-ae49-102b07b900de",
        "colab": {
          "base_uri": "https://localhost:8080/"
        }
      },
      "execution_count": 24,
      "outputs": [
        {
          "output_type": "stream",
          "name": "stdout",
          "text": [
            "200\n",
            "200\n",
            "200\n",
            "200\n",
            "200\n",
            "{'https://google.com': 'OK', 'https://airbnb.com': 'OK', 'https://twitter.com': 'OK', 'https://facebook.com': 'OK', 'https://tiktok.com': 'OK'}\n"
          ]
        }
      ]
    },
    {
      "cell_type": "code",
      "source": [],
      "metadata": {
        "id": "lxI36jZ_y9fI"
      },
      "execution_count": null,
      "outputs": []
    },
    {
      "cell_type": "code",
      "source": [],
      "metadata": {
        "id": "CDzOPeygx1S8"
      },
      "execution_count": null,
      "outputs": []
    }
  ]
}