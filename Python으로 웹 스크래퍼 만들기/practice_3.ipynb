{
  "nbformat": 4,
  "nbformat_minor": 0,
  "metadata": {
    "colab": {
      "provenance": [],
      "authorship_tag": "ABX9TyOfYS5cy0t7Xd1TaiCpoIs1",
      "include_colab_link": true
    },
    "kernelspec": {
      "name": "python3",
      "display_name": "Python 3"
    },
    "language_info": {
      "name": "python"
    }
  },
  "cells": [
    {
      "cell_type": "markdown",
      "metadata": {
        "id": "view-in-github",
        "colab_type": "text"
      },
      "source": [
        "<a href=\"https://colab.research.google.com/github/i2mmmmm/nomadcoder_study/blob/main/Python%EC%9C%BC%EB%A1%9C%20%EC%9B%B9%20%EC%8A%A4%ED%81%AC%EB%9E%98%ED%8D%BC%20%EB%A7%8C%EB%93%A4%EA%B8%B0/practice_3.ipynb\" target=\"_parent\"><img src=\"https://colab.research.google.com/assets/colab-badge.svg\" alt=\"Open In Colab\"/></a>"
      ]
    },
    {
      "cell_type": "code",
      "source": [
        "# control flow - 조건문 if\n",
        "\n",
        "\n",
        "if 10 > 5:\n",
        "  print(\"Correct!\")"
      ],
      "metadata": {
        "colab": {
          "base_uri": "https://localhost:8080/"
        },
        "id": "YXFGRyUwHoR6",
        "outputId": "808c07c4-807d-458a-9a56-92db1066c453"
      },
      "execution_count": null,
      "outputs": [
        {
          "output_type": "stream",
          "name": "stdout",
          "text": [
            "Correct!\n"
          ]
        }
      ]
    },
    {
      "cell_type": "code",
      "source": [
        "a = \"mm\"\n",
        "b = 10\n",
        "\n",
        "if a == \"mm\" and b == 10:\n",
        "  print(\"True\")\n",
        "\n",
        "if a == \"mm\" or b == 3:\n",
        "  print(\"True\")"
      ],
      "metadata": {
        "colab": {
          "base_uri": "https://localhost:8080/"
        },
        "id": "rSF-pj1lIfGo",
        "outputId": "e7887020-5211-436c-f806-a4537f324560"
      },
      "execution_count": null,
      "outputs": [
        {
          "output_type": "stream",
          "name": "stdout",
          "text": [
            "True\n",
            "True\n"
          ]
        }
      ]
    },
    {
      "cell_type": "code",
      "source": [
        "password_correct = False\n",
        "\n",
        "if password_correct:\n",
        "  print(\"Here is your money\")\n",
        "else:\n",
        "  print(\"Wrong password\")"
      ],
      "metadata": {
        "colab": {
          "base_uri": "https://localhost:8080/"
        },
        "id": "JULZbCwGIi9n",
        "outputId": "069ccacf-3e4c-48ad-abfd-5d4634bf40f3"
      },
      "execution_count": null,
      "outputs": [
        {
          "output_type": "stream",
          "name": "stdout",
          "text": [
            "Wrong password\n"
          ]
        }
      ]
    },
    {
      "cell_type": "code",
      "source": [
        "# 여러가지 확인해보고 싶을 때 = elif\n",
        "\n",
        "winner = 10\n",
        "\n",
        "if winner > 10:\n",
        "  print(\"Winner is greater than 10\")\n",
        "elif winner < 10:\n",
        "  print(\"Winner is less than 10\")\n",
        "else:\n",
        "  print(\"Winner is 10\")\n",
        "\n",
        "# print 되는 순간(True인 if가 나타나는 순간) if 는 정지"
      ],
      "metadata": {
        "colab": {
          "base_uri": "https://localhost:8080/"
        },
        "id": "5GcFSk33KB5S",
        "outputId": "b13f2456-7727-473b-efa8-e19bc318d939"
      },
      "execution_count": null,
      "outputs": [
        {
          "output_type": "stream",
          "name": "stdout",
          "text": [
            "Winner is 10\n"
          ]
        }
      ]
    },
    {
      "cell_type": "code",
      "source": [
        "# built-in 함수 (input, type)\n",
        "\n",
        "age = int(input(\"How old are you?\"))\n",
        "\n",
        "if age < 18:\n",
        "  print(\"You can't drink\")\n",
        "elif 18 <= age and age <= 35:\n",
        "  print(\"You drink beer!\")\n",
        "elif age == 60 or age == 70:\n",
        "  print(\"Birthday party!\")\n",
        "else:\n",
        "  print(\"Go ahead!\")"
      ],
      "metadata": {
        "id": "z0c0uYEn9rm_",
        "outputId": "90e8d8f0-eac5-4c5e-be41-2ed4873e5d72",
        "colab": {
          "base_uri": "https://localhost:8080/"
        }
      },
      "execution_count": 11,
      "outputs": [
        {
          "output_type": "stream",
          "name": "stdout",
          "text": [
            "How old are you?60\n",
            "Birthday party!\n"
          ]
        }
      ]
    },
    {
      "cell_type": "code",
      "source": [
        "# python casino\n",
        "\n",
        "user_choice = int(input(\"Choose number.\"))\n",
        "pc_choice = 50\n",
        "\n",
        "if user_choice == pc_choice:\n",
        "  print(\"You won!\")\n",
        "elif user_choice > pc_choice:\n",
        "  print(\"Lower~\")\n",
        "elif user_choice < pc_choice:\n",
        "  print(\"Higher~\")\n"
      ],
      "metadata": {
        "id": "Vi-it3EDGUO1",
        "outputId": "80961170-7275-409d-ea30-3e0271b1aabb",
        "colab": {
          "base_uri": "https://localhost:8080/"
        }
      },
      "execution_count": 18,
      "outputs": [
        {
          "output_type": "stream",
          "name": "stdout",
          "text": [
            "Choose number.30\n",
            "Higher~\n"
          ]
        }
      ]
    },
    {
      "cell_type": "code",
      "source": [
        "# control flow (while)\n",
        "# The Python Standard Library - 기본 함수 검색할 수 있는 지침서\n",
        "# built-in function 은 파이썬에 기본적으로 탑재된 함수\n",
        "# 하지만 그 외에도 활용할 수 있는 아주 많은 fuction이 존재\n",
        "# 그 함수들을 사용하기 위해서는 *import* 가 필요\n",
        "\n",
        "from random import randint   # random.randint(a,b) 를 사용하고 싶음\n",
        "random_choice = randint(1,50)\n",
        "\n",
        "user_choice = int(input(\"Choose number.\"))\n",
        "\n",
        "if user_choice == random_choice:\n",
        "  print(\"You won!\")\n",
        "elif user_choice > random_choice:\n",
        "  print(\"Lower~ Computer choose\", random_choice)\n",
        "elif user_choice < random_choice:\n",
        "  print(\"Higher~ Computer choose\", random_choice)"
      ],
      "metadata": {
        "id": "oriNwxZ4IrSk",
        "outputId": "c9cf2115-62ea-4d00-d7bb-a91284a6893b",
        "colab": {
          "base_uri": "https://localhost:8080/"
        }
      },
      "execution_count": 22,
      "outputs": [
        {
          "output_type": "stream",
          "name": "stdout",
          "text": [
            "Choose number.24\n",
            "Higher~ Computer choose 49\n"
          ]
        }
      ]
    }
  ]
}