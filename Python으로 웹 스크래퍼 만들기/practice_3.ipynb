{
  "nbformat": 4,
  "nbformat_minor": 0,
  "metadata": {
    "colab": {
      "provenance": [],
      "authorship_tag": "ABX9TyOpReZembsrS+a916dk31cv",
      "include_colab_link": true
    },
    "kernelspec": {
      "name": "python3",
      "display_name": "Python 3"
    },
    "language_info": {
      "name": "python"
    }
  },
  "cells": [
    {
      "cell_type": "markdown",
      "metadata": {
        "id": "view-in-github",
        "colab_type": "text"
      },
      "source": [
        "<a href=\"https://colab.research.google.com/github/i2mmmmm/nomadcoder_study/blob/main/Python%EC%9C%BC%EB%A1%9C%20%EC%9B%B9%20%EC%8A%A4%ED%81%AC%EB%9E%98%ED%8D%BC%20%EB%A7%8C%EB%93%A4%EA%B8%B0/practice_3.ipynb\" target=\"_parent\"><img src=\"https://colab.research.google.com/assets/colab-badge.svg\" alt=\"Open In Colab\"/></a>"
      ]
    },
    {
      "cell_type": "code",
      "source": [
        "# control flow - 조건문 if\n",
        "\n",
        "\n",
        "if 10 > 5:\n",
        "  print(\"Correct!\")"
      ],
      "metadata": {
        "colab": {
          "base_uri": "https://localhost:8080/"
        },
        "id": "YXFGRyUwHoR6",
        "outputId": "808c07c4-807d-458a-9a56-92db1066c453"
      },
      "execution_count": 18,
      "outputs": [
        {
          "output_type": "stream",
          "name": "stdout",
          "text": [
            "Correct!\n"
          ]
        }
      ]
    },
    {
      "cell_type": "code",
      "source": [
        "a = \"mm\"\n",
        "b = 10\n",
        "\n",
        "if a == \"mm\" and b == 10:\n",
        "  print(\"True\")\n",
        "\n",
        "if a == \"mm\" or b == 3:\n",
        "  print(\"True\")"
      ],
      "metadata": {
        "colab": {
          "base_uri": "https://localhost:8080/"
        },
        "id": "rSF-pj1lIfGo",
        "outputId": "e7887020-5211-436c-f806-a4537f324560"
      },
      "execution_count": 25,
      "outputs": [
        {
          "output_type": "stream",
          "name": "stdout",
          "text": [
            "True\n",
            "True\n"
          ]
        }
      ]
    },
    {
      "cell_type": "code",
      "source": [
        "password_correct = False\n",
        "\n",
        "if password_correct:\n",
        "  print(\"Here is your money\")\n",
        "else:\n",
        "  print(\"Wrong password\")"
      ],
      "metadata": {
        "colab": {
          "base_uri": "https://localhost:8080/"
        },
        "id": "JULZbCwGIi9n",
        "outputId": "069ccacf-3e4c-48ad-abfd-5d4634bf40f3"
      },
      "execution_count": 27,
      "outputs": [
        {
          "output_type": "stream",
          "name": "stdout",
          "text": [
            "Wrong password\n"
          ]
        }
      ]
    },
    {
      "cell_type": "code",
      "source": [
        "# 여러가지 확인해보고 싶을 때 = elif\n",
        "\n",
        "winner = 10\n",
        "\n",
        "if winner > 10:\n",
        "  print(\"Winner is greater than 10\")\n",
        "elif winner < 10:\n",
        "  print(\"Winner is less than 10\")\n",
        "else:\n",
        "  print(\"Winner is 10\")\n",
        "\n",
        "# print 되는 순간 if 는 정지"
      ],
      "metadata": {
        "colab": {
          "base_uri": "https://localhost:8080/"
        },
        "id": "5GcFSk33KB5S",
        "outputId": "b13f2456-7727-473b-efa8-e19bc318d939"
      },
      "execution_count": 28,
      "outputs": [
        {
          "output_type": "stream",
          "name": "stdout",
          "text": [
            "Winner is 10\n"
          ]
        }
      ]
    }
  ]
}